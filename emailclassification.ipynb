{
 "cells": [
  {
   "cell_type": "code",
   "id": "initial_id",
   "metadata": {
    "collapsed": true,
    "ExecuteTime": {
     "end_time": "2025-02-18T11:58:21.131172Z",
     "start_time": "2025-02-18T11:58:21.127042Z"
    }
   },
   "source": [
    "import pandas as pd\n",
    "from sklearn.model_selection import train_test_split\n",
    "from sklearn.feature_extraction.text import TfidfVectorizer\n",
    "from sklearn.preprocessing import LabelEncoder\n",
    "from keras.src.models import Sequential\n",
    "from keras.src.layers import Dense, Dropout, LSTM, Embedding"
   ],
   "outputs": [],
   "execution_count": 30
  },
  {
   "metadata": {
    "ExecuteTime": {
     "end_time": "2025-02-18T11:33:56.202834Z",
     "start_time": "2025-02-18T11:33:56.038981Z"
    }
   },
   "cell_type": "code",
   "source": [
    "data = pd.read_csv('Spam_Email_raw_text_for_NLP.csv')\n",
    "print(data.head())"
   ],
   "id": "7a91cdb915eb4c9",
   "outputs": [
    {
     "name": "stdout",
     "output_type": "stream",
     "text": [
      "   CATEGORY                                            MESSAGE  \\\n",
      "0         1  Dear Homeowner,\\n\\n \\n\\nInterest Rates are at ...   \n",
      "1         1  ATTENTION: This is a MUST for ALL Computer Use...   \n",
      "2         1  This is a multi-part message in MIME format.\\n...   \n",
      "3         1  IMPORTANT INFORMATION:\\n\\n\\n\\nThe new domain n...   \n",
      "4         1  This is the bottom line.  If you can GIVE AWAY...   \n",
      "\n",
      "                                FILE_NAME  \n",
      "0  00249.5f45607c1bffe89f60ba1ec9f878039a  \n",
      "1  00373.ebe8670ac56b04125c25100a36ab0510  \n",
      "2  00214.1367039e50dc6b7adb0f2aa8aba83216  \n",
      "3  00210.050ffd105bd4e006771ee63cabc59978  \n",
      "4  00033.9babb58d9298daa2963d4f514193d7d6  \n"
     ]
    }
   ],
   "execution_count": 18
  },
  {
   "metadata": {
    "ExecuteTime": {
     "end_time": "2025-02-18T11:55:04.798147Z",
     "start_time": "2025-02-18T11:55:04.768129Z"
    }
   },
   "cell_type": "code",
   "source": [
    "label_encoder = LabelEncoder()\n",
    "data['CATEGORY'] = label_encoder.fit_transform(data['CATEGORY'])"
   ],
   "id": "919c65fb61b0a995",
   "outputs": [],
   "execution_count": 25
  },
  {
   "metadata": {
    "ExecuteTime": {
     "end_time": "2025-02-18T11:55:19.253887Z",
     "start_time": "2025-02-18T11:55:19.249607Z"
    }
   },
   "cell_type": "code",
   "source": [
    "X = data['MESSAGE']\n",
    "y = data['CATEGORY']"
   ],
   "id": "3c1815f79c22508f",
   "outputs": [],
   "execution_count": 26
  },
  {
   "metadata": {
    "ExecuteTime": {
     "end_time": "2025-02-18T11:55:31.614538Z",
     "start_time": "2025-02-18T11:55:29.368212Z"
    }
   },
   "cell_type": "code",
   "source": [
    "vectorizer = TfidfVectorizer(max_features=5000, stop_words='english')\n",
    "X = vectorizer.fit_transform(X)"
   ],
   "id": "6e61144b1aaa9701",
   "outputs": [],
   "execution_count": 27
  },
  {
   "metadata": {
    "ExecuteTime": {
     "end_time": "2025-02-18T11:58:37.848108Z",
     "start_time": "2025-02-18T11:58:37.782913Z"
    }
   },
   "cell_type": "code",
   "source": "X_train, X_test, y_train, y_test = train_test_split(X, y, test_size=0.2, random_state=42)",
   "id": "bba93fceef0b95ac",
   "outputs": [],
   "execution_count": 32
  },
  {
   "metadata": {
    "ExecuteTime": {
     "end_time": "2025-02-18T11:58:41.878253Z",
     "start_time": "2025-02-18T11:58:39.959690Z"
    }
   },
   "cell_type": "code",
   "source": [
    "model = Sequential()\n",
    "model.add(Embedding(input_dim=5000, output_dim=128, input_length=X_train.shape[1]))\n",
    "model.add(LSTM(128))\n",
    "model.add(Dense(1, activation='sigmoid'))"
   ],
   "id": "580b0ade35a844c8",
   "outputs": [
    {
     "name": "stderr",
     "output_type": "stream",
     "text": [
      "D:\\Anaconda\\Lib\\site-packages\\keras\\src\\layers\\core\\embedding.py:90: UserWarning: Argument `input_length` is deprecated. Just remove it.\n",
      "  warnings.warn(\n"
     ]
    }
   ],
   "execution_count": 33
  },
  {
   "metadata": {
    "jupyter": {
     "is_executing": true
    },
    "ExecuteTime": {
     "start_time": "2025-02-18T11:58:50.761938Z"
    }
   },
   "cell_type": "code",
   "source": [
    "model.compile(loss='binary_crossentropy', optimizer='adam', metrics=['accuracy'])\n",
    "model.fit(X_train, y_train, epochs=5, batch_size=32, validation_data=(X_test, y_test))"
   ],
   "id": "acea4381165f4d9d",
   "outputs": [
    {
     "name": "stdout",
     "output_type": "stream",
     "text": [
      "Epoch 1/5\n"
     ]
    }
   ],
   "execution_count": null
  }
 ],
 "metadata": {
  "kernelspec": {
   "display_name": "Python 3",
   "language": "python",
   "name": "python3"
  },
  "language_info": {
   "codemirror_mode": {
    "name": "ipython",
    "version": 2
   },
   "file_extension": ".py",
   "mimetype": "text/x-python",
   "name": "python",
   "nbconvert_exporter": "python",
   "pygments_lexer": "ipython2",
   "version": "2.7.6"
  }
 },
 "nbformat": 4,
 "nbformat_minor": 5
}
