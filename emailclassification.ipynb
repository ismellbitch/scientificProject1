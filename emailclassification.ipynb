{
 "cells": [
  {
   "cell_type": "code",
   "id": "initial_id",
   "metadata": {
    "collapsed": true,
    "ExecuteTime": {
     "end_time": "2025-02-22T11:57:36.003733Z",
     "start_time": "2025-02-22T11:57:35.997876Z"
    }
   },
   "source": [
    "import pandas as pd\n",
    "from sklearn.model_selection import train_test_split\n",
    "from sklearn.feature_extraction.text import TfidfVectorizer\n",
    "from sklearn.preprocessing import LabelEncoder\n",
    "from keras.src.models import Sequential\n",
    "from keras.src.layers import Dense, LSTM, Embedding\n",
    "import matplotlib.pyplot as plt"
   ],
   "outputs": [],
   "execution_count": 3
  },
  {
   "metadata": {
    "ExecuteTime": {
     "end_time": "2025-02-22T11:57:36.233736Z",
     "start_time": "2025-02-22T11:57:36.019380Z"
    }
   },
   "cell_type": "code",
   "source": [
    "data = pd.read_csv('Spam_Email_raw_text_for_NLP.csv')\n",
    "print(data.head())"
   ],
   "id": "7a91cdb915eb4c9",
   "outputs": [
    {
     "name": "stdout",
     "output_type": "stream",
     "text": [
      "   CATEGORY                                            MESSAGE  \\\n",
      "0         1  Dear Homeowner,\\r\\n\\r\\n \\r\\n\\r\\nInterest Rates...   \n",
      "1         1  ATTENTION: This is a MUST for ALL Computer Use...   \n",
      "2         1  This is a multi-part message in MIME format.\\r...   \n",
      "3         1  IMPORTANT INFORMATION:\\r\\n\\r\\n\\r\\n\\r\\nThe new ...   \n",
      "4         1  This is the bottom line.  If you can GIVE AWAY...   \n",
      "\n",
      "                                FILE_NAME  \n",
      "0  00249.5f45607c1bffe89f60ba1ec9f878039a  \n",
      "1  00373.ebe8670ac56b04125c25100a36ab0510  \n",
      "2  00214.1367039e50dc6b7adb0f2aa8aba83216  \n",
      "3  00210.050ffd105bd4e006771ee63cabc59978  \n",
      "4  00033.9babb58d9298daa2963d4f514193d7d6  \n"
     ]
    }
   ],
   "execution_count": 4
  },
  {
   "metadata": {
    "ExecuteTime": {
     "end_time": "2025-02-22T11:57:36.336422Z",
     "start_time": "2025-02-22T11:57:36.324688Z"
    }
   },
   "cell_type": "code",
   "source": [
    "label_encoder = LabelEncoder()\n",
    "data['CATEGORY'] = label_encoder.fit_transform(data['CATEGORY'])"
   ],
   "id": "919c65fb61b0a995",
   "outputs": [],
   "execution_count": 5
  },
  {
   "metadata": {
    "ExecuteTime": {
     "end_time": "2025-02-22T11:57:36.422422Z",
     "start_time": "2025-02-22T11:57:36.403592Z"
    }
   },
   "cell_type": "code",
   "source": [
    "X = data['MESSAGE']\n",
    "y = data['CATEGORY']"
   ],
   "id": "3c1815f79c22508f",
   "outputs": [],
   "execution_count": 6
  },
  {
   "metadata": {
    "ExecuteTime": {
     "end_time": "2025-02-22T11:57:39.220370Z",
     "start_time": "2025-02-22T11:57:36.456920Z"
    }
   },
   "cell_type": "code",
   "source": [
    "vectorizer = TfidfVectorizer(max_features=5000, stop_words='english')\n",
    "X = vectorizer.fit_transform(X)"
   ],
   "id": "6e61144b1aaa9701",
   "outputs": [],
   "execution_count": 7
  },
  {
   "metadata": {
    "ExecuteTime": {
     "end_time": "2025-02-22T11:57:39.249441Z",
     "start_time": "2025-02-22T11:57:39.233989Z"
    }
   },
   "cell_type": "code",
   "source": "X_train, X_test, y_train, y_test = train_test_split(X, y, test_size=0.2, random_state=42)",
   "id": "bba93fceef0b95ac",
   "outputs": [],
   "execution_count": 8
  },
  {
   "metadata": {
    "ExecuteTime": {
     "end_time": "2025-02-22T11:57:39.510742Z",
     "start_time": "2025-02-22T11:57:39.265615Z"
    }
   },
   "cell_type": "code",
   "source": [
    "model = Sequential()\n",
    "model.add(Embedding(input_dim=5000, output_dim=128, input_length=X_train.shape[1]))\n",
    "model.add(LSTM(128))\n",
    "model.add(Dense(1, activation='sigmoid'))"
   ],
   "id": "580b0ade35a844c8",
   "outputs": [
    {
     "name": "stderr",
     "output_type": "stream",
     "text": [
      "C:\\Users\\kovalenko\\AppData\\Roaming\\Python\\Python312\\site-packages\\keras\\src\\layers\\core\\embedding.py:90: UserWarning: Argument `input_length` is deprecated. Just remove it.\n",
      "  warnings.warn(\n"
     ]
    }
   ],
   "execution_count": 9
  },
  {
   "metadata": {
    "jupyter": {
     "is_executing": true
    },
    "ExecuteTime": {
     "start_time": "2025-02-22T11:57:39.587621Z"
    }
   },
   "cell_type": "code",
   "source": [
    "model.compile(loss='binary_crossentropy', optimizer='adam', metrics=['accuracy'])\n",
    "history=model.fit(X_train, y_train, epochs=5, batch_size=32, validation_data=(X_test, y_test))"
   ],
   "id": "acea4381165f4d9d",
   "outputs": [
    {
     "name": "stdout",
     "output_type": "stream",
     "text": [
      "Epoch 1/5\n",
      "\u001B[1m 14/145\u001B[0m \u001B[32m━\u001B[0m\u001B[37m━━━━━━━━━━━━━━━━━━━\u001B[0m \u001B[1m9:11\u001B[0m 4s/step - accuracy: 0.6680 - loss: 0.6559"
     ]
    }
   ],
   "execution_count": null
  },
  {
   "metadata": {},
   "cell_type": "code",
   "outputs": [],
   "execution_count": null,
   "source": [
    "plt.plot(history.history['accuracy'],label='Доля верных ответов на обучающем наборе')\n",
    "plt.plot(history.history['val_accuracy'],label='Доля верных ответов на проверочном наборе')\n",
    "plt.xlabel('Эпоха обучения')\n",
    "plt.xlabel('Доля верных ответов')\n",
    "plt.legend()\n",
    "plt.show()"
   ],
   "id": "f9ed3bdbcf734201"
  },
  {
   "metadata": {},
   "cell_type": "code",
   "outputs": [],
   "execution_count": null,
   "source": "scores=model.evaluate(x_test, y_test,verbose=1)",
   "id": "d478f30e777c3e7e"
  }
 ],
 "metadata": {
  "kernelspec": {
   "display_name": "Python 3",
   "language": "python",
   "name": "python3"
  },
  "language_info": {
   "codemirror_mode": {
    "name": "ipython",
    "version": 2
   },
   "file_extension": ".py",
   "mimetype": "text/x-python",
   "name": "python",
   "nbconvert_exporter": "python",
   "pygments_lexer": "ipython2",
   "version": "2.7.6"
  }
 },
 "nbformat": 4,
 "nbformat_minor": 5
}
